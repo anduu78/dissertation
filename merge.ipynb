{
 "cells": [
  {
   "cell_type": "code",
   "execution_count": 1,
   "id": "df2ee365-fdb0-4470-8fef-3f10fdf81116",
   "metadata": {},
   "outputs": [
    {
     "name": "stdout",
     "output_type": "stream",
     "text": [
      "Processing complete! Combined 52 files into spotify_charts_combined.csv\n",
      "Data arranged chronologically from 2023-12-28 to 2024-12-19\n"
     ]
    }
   ],
   "source": [
    "import pandas as pd\n",
    "import os\n",
    "import glob\n",
    "import re\n",
    "from datetime import datetime\n",
    "\n",
    "# Directory where the CSV files are located\n",
    "path = r\"C:\\Users\\w196283\\Downloads\\spotify\"\n",
    "\n",
    "# Get all CSV files from the directory\n",
    "all_files = glob.glob(os.path.join(path, \"regional-us-weekly-*.csv\"))\n",
    "\n",
    "# List to store all dataframes\n",
    "df_list = []\n",
    "\n",
    "# Process each file\n",
    "for file in all_files:\n",
    "    # Extract date from filename using regex\n",
    "    date_match = re.search(r'regional-us-weekly-(\\d{4}-\\d{2}-\\d{2})\\.csv', file)\n",
    "    \n",
    "    if date_match:\n",
    "        date_str = date_match.group(1)\n",
    "        # Convert date string to datetime object\n",
    "        file_date = datetime.strptime(date_str, '%Y-%m-%d').date()\n",
    "        \n",
    "        # Read the CSV file\n",
    "        df = pd.read_csv(file, encoding='utf-8-sig')\n",
    "        \n",
    "        # Add the date column\n",
    "        df['date'] = file_date\n",
    "        \n",
    "        # Add to the list of dataframes\n",
    "        df_list.append(df)\n",
    "    else:\n",
    "        print(f\"Could not extract date from {file}\")\n",
    "\n",
    "# Combine all dataframes\n",
    "combined_df = pd.concat(df_list, ignore_index=True)\n",
    "\n",
    "# Sort the dataframe chronologically by date\n",
    "combined_df = combined_df.sort_values(by=['date', 'rank'])\n",
    "\n",
    "# Save the result to a single CSV file\n",
    "combined_df.to_csv(\"spotify.csv\", index=False, encoding='utf-8-sig')\n",
    "\n",
    "print(f\"Processing complete! Combined {len(df_list)} files into spotify_charts_combined.csv\")\n",
    "print(f\"Data arranged chronologically from {combined_df['date'].min()} to {combined_df['date'].max()}\")"
   ]
  },
  {
   "cell_type": "code",
   "execution_count": 3,
   "id": "be2a8cc3-0c9a-4cd2-9997-6603cc4fb875",
   "metadata": {},
   "outputs": [
    {
     "name": "stdout",
     "output_type": "stream",
     "text": [
      "Processing complete! Combined 52 files into apple_music.csv\n",
      "Data arranged chronologically from 2023-12-18 to 2024-12-09\n"
     ]
    }
   ],
   "source": [
    "import pandas as pd\n",
    "import os\n",
    "import glob\n",
    "import re\n",
    "from datetime import datetime, timedelta\n",
    "\n",
    "# Directory where the CSV files are located\n",
    "path = r\"C:\\Users\\w196283\\Downloads\\apple music\"\n",
    "\n",
    "# Get all CSV files from the directory\n",
    "all_files = glob.glob(os.path.join(path, \"*Top Songs*.csv\"))\n",
    "\n",
    "# List to store all dataframes\n",
    "df_list = []\n",
    "\n",
    "# Process each file\n",
    "for file in all_files:\n",
    "    # Extract week information from filename using regex\n",
    "    week_match = re.search(r'(\\d{4}-W\\d{2})', file)\n",
    "    \n",
    "    if week_match:\n",
    "        week_str = week_match.group(1)\n",
    "        year, week_num = week_str.split('-W')\n",
    "        \n",
    "        # Convert week number to a date (using the first day of that week)\n",
    "        # ISO week date format: the first week starts with Monday closest to Jan 1\n",
    "        first_day = datetime.strptime(f'{year}-{week_num}-1', '%Y-%W-%w').date()\n",
    "        \n",
    "        # Read the CSV file\n",
    "        df = pd.read_csv(file, encoding='utf-8-sig')\n",
    "        \n",
    "        # Add the date column\n",
    "        df['date'] = first_day\n",
    "        \n",
    "        # Add to the list of dataframes\n",
    "        df_list.append(df)\n",
    "    else:\n",
    "        print(f\"Could not extract week information from {file}\")\n",
    "\n",
    "# Combine all dataframes\n",
    "combined_df = pd.concat(df_list, ignore_index=True)\n",
    "\n",
    "# Sort the dataframe chronologically by date\n",
    "combined_df = combined_df.sort_values(by=['date', 'Position'])\n",
    "\n",
    "# Save the result to a single CSV file\n",
    "combined_df.to_csv(\"apple_music.csv\", index=False, encoding='utf-8-sig')\n",
    "\n",
    "print(f\"Processing complete! Combined {len(df_list)} files into apple_music.csv\")\n",
    "print(f\"Data arranged chronologically from {combined_df['date'].min()} to {combined_df['date'].max()}\")"
   ]
  },
  {
   "cell_type": "code",
   "execution_count": null,
   "id": "026d583e-2d53-4b01-a0a8-c52acca9c74f",
   "metadata": {},
   "outputs": [],
   "source": []
  }
 ],
 "metadata": {
  "kernelspec": {
   "display_name": "Python 3 (ipykernel)",
   "language": "python",
   "name": "python3"
  },
  "language_info": {
   "codemirror_mode": {
    "name": "ipython",
    "version": 3
   },
   "file_extension": ".py",
   "mimetype": "text/x-python",
   "name": "python",
   "nbconvert_exporter": "python",
   "pygments_lexer": "ipython3",
   "version": "3.12.7"
  }
 },
 "nbformat": 4,
 "nbformat_minor": 5
}
